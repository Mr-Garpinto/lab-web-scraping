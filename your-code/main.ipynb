{
 "cells": [
  {
   "cell_type": "markdown",
   "metadata": {},
   "source": [
    "# Web Scraping Lab\n",
    "\n",
    "You will find in this notebook some scrapy exercises to practise your scraping skills.\n",
    "\n",
    "**Tips:**\n",
    "\n",
    "- Check the response status code for each request to ensure you have obtained the intended content.\n",
    "- Print the response text in each request to understand the kind of info you are getting and its format.\n",
    "- Check for patterns in the response text to extract the data/info requested in each question.\n",
    "- Visit the urls below and take a look at their source code through Chrome DevTools. You'll need to identify the html tags, special class names, etc used in the html content you are expected to extract.\n",
    "\n",
    "**Resources**:\n",
    "- [Requests library](http://docs.python-requests.org/en/master/#the-user-guide)\n",
    "- [Beautiful Soup Doc](https://www.crummy.com/software/BeautifulSoup/bs4/doc/)\n",
    "- [Urllib](https://docs.python.org/3/library/urllib.html#module-urllib)\n",
    "- [re lib](https://docs.python.org/3/library/re.html)\n",
    "- [lxml lib](https://lxml.de/)\n",
    "- [Scrapy](https://scrapy.org/)\n",
    "- [List of HTTP status codes](https://en.wikipedia.org/wiki/List_of_HTTP_status_codes)\n",
    "- [HTML basics](http://www.simplehtmlguide.com/cheatsheet.php)\n",
    "- [CSS basics](https://www.cssbasics.com/#page_start)"
   ]
  },
  {
   "cell_type": "markdown",
   "metadata": {},
   "source": [
    "#### Below are the libraries and modules you may need. `requests`,  `BeautifulSoup` and `pandas` are already imported for you. If you prefer to use additional libraries feel free to do it."
   ]
  },
  {
   "cell_type": "code",
   "execution_count": 1,
   "metadata": {},
   "outputs": [],
   "source": [
    "import requests\n",
    "from bs4 import BeautifulSoup\n",
    "import pandas as pd"
   ]
  },
  {
   "cell_type": "markdown",
   "metadata": {},
   "source": [
    "#### Download, parse (using BeautifulSoup), and print the content from the Trending Developers page from GitHub:"
   ]
  },
  {
   "cell_type": "code",
   "execution_count": 2,
   "metadata": {},
   "outputs": [],
   "source": [
    "# This is the url you will scrape in this exercise\n",
    "url = 'https://github.com/trending/developers'"
   ]
  },
  {
   "cell_type": "code",
   "execution_count": 3,
   "metadata": {},
   "outputs": [],
   "source": [
    "# your code here\n",
    "response = requests.get(url)\n",
    "\n",
    "soup = BeautifulSoup(response.content, features = \"lxml\")\n",
    "\n",
    "#print(soup.prettify())"
   ]
  },
  {
   "cell_type": "markdown",
   "metadata": {},
   "source": [
    "#### 1. Display the names of the trending developers retrieved in the previous step.\n",
    "\n",
    "Your output should be a Python list of developer names. Each name should not contain any html tag.\n",
    "\n",
    "**Instructions:**\n",
    "\n",
    "1. Find out the html tag and class names used for the developer names. You can achieve this using Chrome DevTools or clicking in 'Inspect' on any browser. Here is an example:\n",
    "\n",
    "![title](example_1.png)\n",
    "\n",
    "2. Use BeautifulSoup `find_all()` to extract all the html elements that contain the developer names. Hint: pass in the `attrs` parameter to specify the class.\n",
    "\n",
    "3. Loop through the elements found and get the text for each of them.\n",
    "\n",
    "4. While you are at it, use string manipulation techniques to replace whitespaces and linebreaks (i.e. `\\n`) in the *text* of each html element. Use a list to store the clean names. Hint: you may also use `.get_text()` instead of `.text` and pass in the desired parameters to do some string manipulation (check the documentation).\n",
    "\n",
    "5. Print the list of names.\n",
    "\n",
    "Your output should look like below:\n",
    "\n",
    "```\n",
    "['trimstray (@trimstray)',\n",
    " 'joewalnes (JoeWalnes)',\n",
    " 'charlax (Charles-AxelDein)',\n",
    " 'ForrestKnight (ForrestKnight)',\n",
    " 'revery-ui (revery-ui)',\n",
    " 'alibaba (Alibaba)',\n",
    " 'Microsoft (Microsoft)',\n",
    " 'github (GitHub)',\n",
    " 'facebook (Facebook)',\n",
    " 'boazsegev (Bo)',\n",
    " 'google (Google)',\n",
    " 'cloudfetch',\n",
    " 'sindresorhus (SindreSorhus)',\n",
    " 'tensorflow',\n",
    " 'apache (TheApacheSoftwareFoundation)',\n",
    " 'DevonCrawford (DevonCrawford)',\n",
    " 'ARMmbed (ArmMbed)',\n",
    " 'vuejs (vuejs)',\n",
    " 'fastai (fast.ai)',\n",
    " 'QiShaoXuan (Qi)',\n",
    " 'joelparkerhenderson (JoelParkerHenderson)',\n",
    " 'torvalds (LinusTorvalds)',\n",
    " 'CyC2018',\n",
    " 'komeiji-satori (神楽坂覚々)',\n",
    " 'script-8']\n",
    " ```"
   ]
  },
  {
   "cell_type": "code",
   "execution_count": 7,
   "metadata": {},
   "outputs": [
    {
     "data": {
      "text/plain": [
       "['Jonah Williams(@jonahwilliams)',\n",
       " 'Zachary Rice(@zricethezav)',\n",
       " 'Luke Latham(@guardrex)',\n",
       " 'Stefan Prodan(@stefanprodan)',\n",
       " 'Juliette(@jrfnl)',\n",
       " 'Will McGugan(@willmcgugan)',\n",
       " 'Chris Banes(@chrisbanes)',\n",
       " 'Gonzalo Peña-Castellanos(@goanpeca)',\n",
       " 'Márk Sági-Kazár(@sagikazarmark)',\n",
       " 'Hiromu OCHIAI(@otiai10)',\n",
       " 'Mr.doob(@mrdoob)',\n",
       " 'Dalton Hubble(@dghubble)',\n",
       " 'Jayden Seric(@jaydenseric)',\n",
       " 'hemanth.hm(@hemanth)',\n",
       " 'Mike McQuaid(@MikeMcQuaid)',\n",
       " 'Julian Gruber(@juliangruber)',\n",
       " 'Waldemar Hummer(@whummer)',\n",
       " 'Dan Imhoff(@dwieeb)',\n",
       " 'Rafael Winterhalter(@raphw)',\n",
       " 'Michiel Borkent(@borkdude)',\n",
       " 'Björn Kimminich(@bkimminich)',\n",
       " 'Maël Nison(@arcanis)',\n",
       " 'Niels Lohmann(@nlohmann)',\n",
       " 'Kazuaki Matsuo(@KazuCocoa)',\n",
       " 'Josh Matthews(@jdm)']"
      ]
     },
     "execution_count": 7,
     "metadata": {},
     "output_type": "execute_result"
    }
   ],
   "source": [
    "# your code here\n",
    "\n",
    "names = soup.find_all('h1', attrs = {'class' : 'h3 lh-condensed'})\n",
    "\n",
    "nick_names = soup.find_all('p', attrs = {'class' : 'f4 text-normal mb-1'})\n",
    "\n",
    "#nick_names = soup.find_all('span class', attrs = {'class' : 'css-truncate css-truncate-target'})\n",
    "\n",
    "nickname = ['(@'+i.get_text().lstrip().strip()+')' for i in nick_names]\n",
    "name = [i.get_text().lstrip().strip() for i in names]\n",
    "\n",
    "result = [i + y for i,y in zip(name,nickname)]\n",
    "\n",
    "result\n",
    "\n",
    "#<span class=\"css-truncate css-truncate-target\" title=\"Works for @google \">@google </span>"
   ]
  },
  {
   "cell_type": "markdown",
   "metadata": {},
   "source": [
    "#### 1.1. Display the trending Python repositories in GitHub.\n",
    "\n",
    "The steps to solve this problem is similar to the previous one except that you need to find out the repository names instead of developer names."
   ]
  },
  {
   "cell_type": "code",
   "execution_count": 10,
   "metadata": {},
   "outputs": [],
   "source": [
    "# This is the url you will scrape in this exercise\n",
    "url = 'https://github.com/trending/python?since=daily'"
   ]
  },
  {
   "cell_type": "code",
   "execution_count": 11,
   "metadata": {},
   "outputs": [
    {
     "data": {
      "text/plain": [
       "['linkedin /detext',\n",
       " 'facebookresearch /TransCoder',\n",
       " 'gto76 /python-cheatsheet',\n",
       " 'WongKinYiu /PyTorch_YOLOv4',\n",
       " 'aws /sagemaker-python-sdk',\n",
       " 'SystemErrorWang /White-box-Cartoonization',\n",
       " 'google /jax',\n",
       " 'pfnet /pfrl',\n",
       " 'fishtown-analytics /dbt',\n",
       " 'doccano /doccano',\n",
       " 'psf /black',\n",
       " 'apache /incubator-superset',\n",
       " 'byt3bl33d3r /CrackMapExec',\n",
       " 'Manisso /fsociety',\n",
       " 'kubernetes-sigs /kubespray',\n",
       " 'tiangolo /fastapi',\n",
       " 'apache /incubator-tvm',\n",
       " 'bojone /bert4keras',\n",
       " 'pytest-dev /pytest',\n",
       " 'allenai /allennlp',\n",
       " 'Neo23x0 /sigma',\n",
       " 'NVIDIA /DeepLearningExamples',\n",
       " 'FortyNorthSecurity /EyeWitness',\n",
       " 'awslabs /serverless-application-model',\n",
       " 'bubbliiiing /yolov4-pytorch']"
      ]
     },
     "execution_count": 11,
     "metadata": {},
     "output_type": "execute_result"
    }
   ],
   "source": [
    "# your code here\n",
    "\n",
    "#list1 = []\n",
    "\n",
    "response = requests.get(url)\n",
    "\n",
    "soup = BeautifulSoup(response.content, features = \"lxml\")\n",
    "\n",
    "repo_names = soup.find_all('h1', attrs = {'class' : 'h3 lh-condensed'})\n",
    "\n",
    "#top_reps = soup.find_all('span', attrs = {'class' : 'text-normal'})\n",
    "#for reps in top_reps:\n",
    "#    list1.append(reps.get_text().replace(' /', '').strip())\n",
    "#print(list1[7:])\n",
    "\n",
    "[name.get_text(strip = True) for name in repo_names]"
   ]
  },
  {
   "cell_type": "markdown",
   "metadata": {},
   "source": [
    "#### 2. Display all the image links from Walt Disney wikipedia page.\n",
    "Hint: use `.get()` to access information inside tags. Check out the documentation."
   ]
  },
  {
   "cell_type": "code",
   "execution_count": 12,
   "metadata": {},
   "outputs": [],
   "source": [
    "# This is the url you will scrape in this exercise\n",
    "url = 'https://en.wikipedia.org/wiki/Walt_Disney'"
   ]
  },
  {
   "cell_type": "code",
   "execution_count": 13,
   "metadata": {},
   "outputs": [
    {
     "name": "stdout",
     "output_type": "stream",
     "text": [
      "https://en.wikipedia.org//wiki/File:Walt_Disney_1946.JPG\n",
      "https://en.wikipedia.org//wiki/File:Walt_Disney_1942_signature.svg\n",
      "https://en.wikipedia.org//wiki/File:Walt_Disney_envelope_ca._1921.jpg\n",
      "https://en.wikipedia.org//wiki/File:Trolley_Troubles_poster.jpg\n",
      "https://en.wikipedia.org//wiki/File:Walt_Disney_and_his_cartoon_creation_%22Mickey_Mouse%22_-_National_Board_of_Review_Magazine.jpg\n",
      "https://en.wikipedia.org//wiki/File:Steamboat-willie.jpg\n",
      "https://en.wikipedia.org//wiki/File:Walt_Disney_1935.jpg\n",
      "https://en.wikipedia.org//wiki/File:Walt_Disney_Snow_white_1937_trailer_screenshot_(13).jpg\n",
      "https://en.wikipedia.org//wiki/File:Disney_drawing_goofy.jpg\n",
      "https://en.wikipedia.org//wiki/File:DisneySchiphol1951.jpg\n",
      "https://en.wikipedia.org//wiki/File:WaltDisneyplansDisneylandDec1954.jpg\n",
      "https://en.wikipedia.org//wiki/File:Walt_disney_portrait_right.jpg\n",
      "https://en.wikipedia.org//wiki/File:Walt_Disney_Grave.JPG\n",
      "https://en.wikipedia.org//wiki/File:Roy_O._Disney_with_Company_at_Press_Conference.jpg\n",
      "https://en.wikipedia.org//wiki/File:Disney_Display_Case.JPG\n",
      "https://en.wikipedia.org//wiki/File:Disney1968.jpg\n",
      "https://en.wikipedia.org//wiki/File:The_Walt_Disney_Company_Logo.svg\n",
      "https://en.wikipedia.org//wiki/File:Animation_disc.svg\n",
      "https://en.wikipedia.org//wiki/File:P_vip.svg\n",
      "https://en.wikipedia.org//wiki/File:Magic_Kingdom_castle.jpg\n",
      "https://en.wikipedia.org//wiki/File:Video-x-generic.svg\n",
      "https://en.wikipedia.org//wiki/File:Flag_of_Los_Angeles_County,_California.svg\n",
      "https://en.wikipedia.org//wiki/File:Blank_television_set.svg\n",
      "https://en.wikipedia.org//wiki/File:Flag_of_the_United_States.svg\n"
     ]
    }
   ],
   "source": [
    "# your code here\n",
    "response = requests.get(url)\n",
    "\n",
    "soup = BeautifulSoup(response.content, features = \"lxml\")\n",
    "\n",
    "#soup.find_all('img') #this wasn't a good idea\n",
    "\n",
    "image_link = soup.find_all('a', attrs = {'class' : 'image'})\n",
    "\n",
    "\n",
    "link = [image.get('href') for image in image_link]\n",
    "\n",
    "for sublink in link:\n",
    "    full_link = 'https://en.wikipedia.org/' + sublink\n",
    "    print(full_link)"
   ]
  },
  {
   "cell_type": "markdown",
   "metadata": {},
   "source": [
    "#### 2.1. List all language names and number of related articles in the order they appear in wikipedia.org."
   ]
  },
  {
   "cell_type": "code",
   "execution_count": 14,
   "metadata": {},
   "outputs": [],
   "source": [
    "# This is the url you will scrape in this exercise\n",
    "url = 'https://www.wikipedia.org/'"
   ]
  },
  {
   "cell_type": "code",
   "execution_count": 15,
   "metadata": {},
   "outputs": [
    {
     "data": {
      "text/plain": [
       "['English6129000+articles',\n",
       " '日本語1219000+記事',\n",
       " 'Español1614000+artículos',\n",
       " 'Deutsch2461000+Artikel',\n",
       " 'Русский1646000+статей',\n",
       " 'Français2238000+articles',\n",
       " 'Italiano1624000+voci',\n",
       " '中文1132000+條目',\n",
       " 'Português1040000+artigos',\n",
       " 'Polski1421000+haseł']"
      ]
     },
     "execution_count": 15,
     "metadata": {},
     "output_type": "execute_result"
    }
   ],
   "source": [
    "# your code here\n",
    "\n",
    "response = requests.get(url)\n",
    "\n",
    "soup = BeautifulSoup(response.content, features = 'lxml')\n",
    "\n",
    "languages = soup.find_all('a', attrs = {'class' : 'link-box'})\n",
    "\n",
    "language = [l.get_text(strip = True) for l in languages]\n",
    "\n",
    "lang_num_art = []\n",
    "\n",
    "for lang in language:\n",
    "    b = lang.replace('\\xa0', '')\n",
    "    lang_num_art.append(b)\n",
    "    \n",
    "lang_num_art"
   ]
  },
  {
   "cell_type": "markdown",
   "metadata": {},
   "source": [
    "#### 2.2. Display the top 10 languages by number of native speakers stored in a pandas dataframe.\n",
    "Hint: you can use a nested **for** loop to find the elements row by row."
   ]
  },
  {
   "cell_type": "code",
   "execution_count": 16,
   "metadata": {},
   "outputs": [],
   "source": [
    "# This is the url you will scrape in this exercise\n",
    "url = 'https://en.wikipedia.org/wiki/List_of_languages_by_number_of_native_speakers'"
   ]
  },
  {
   "cell_type": "code",
   "execution_count": 17,
   "metadata": {},
   "outputs": [
    {
     "data": {
      "text/html": [
       "<div>\n",
       "<style scoped>\n",
       "    .dataframe tbody tr th:only-of-type {\n",
       "        vertical-align: middle;\n",
       "    }\n",
       "\n",
       "    .dataframe tbody tr th {\n",
       "        vertical-align: top;\n",
       "    }\n",
       "\n",
       "    .dataframe thead th {\n",
       "        text-align: right;\n",
       "    }\n",
       "</style>\n",
       "<table border=\"1\" class=\"dataframe\">\n",
       "  <thead>\n",
       "    <tr style=\"text-align: right;\">\n",
       "      <th></th>\n",
       "      <th>Rank</th>\n",
       "      <th>Language</th>\n",
       "      <th>Speakers(millions)</th>\n",
       "      <th>% of World pop.(March 2019)[8]</th>\n",
       "      <th>Language family</th>\n",
       "      <th>Branch</th>\n",
       "    </tr>\n",
       "  </thead>\n",
       "  <tbody>\n",
       "    <tr>\n",
       "      <th>0</th>\n",
       "      <td>1</td>\n",
       "      <td>Mandarin Chinese</td>\n",
       "      <td>918.0</td>\n",
       "      <td>11.922</td>\n",
       "      <td>Sino-Tibetan</td>\n",
       "      <td>Sinitic</td>\n",
       "    </tr>\n",
       "    <tr>\n",
       "      <th>1</th>\n",
       "      <td>2</td>\n",
       "      <td>Spanish</td>\n",
       "      <td>480.0</td>\n",
       "      <td>5.994</td>\n",
       "      <td>Indo-European</td>\n",
       "      <td>Romance</td>\n",
       "    </tr>\n",
       "    <tr>\n",
       "      <th>2</th>\n",
       "      <td>3</td>\n",
       "      <td>English</td>\n",
       "      <td>379.0</td>\n",
       "      <td>4.922</td>\n",
       "      <td>Indo-European</td>\n",
       "      <td>Germanic</td>\n",
       "    </tr>\n",
       "    <tr>\n",
       "      <th>3</th>\n",
       "      <td>4</td>\n",
       "      <td>Hindi (Sanskritised Hindustani)[9]</td>\n",
       "      <td>341.0</td>\n",
       "      <td>4.429</td>\n",
       "      <td>Indo-European</td>\n",
       "      <td>Indo-Aryan</td>\n",
       "    </tr>\n",
       "    <tr>\n",
       "      <th>4</th>\n",
       "      <td>5</td>\n",
       "      <td>Bengali</td>\n",
       "      <td>228.0</td>\n",
       "      <td>2.961</td>\n",
       "      <td>Indo-European</td>\n",
       "      <td>Indo-Aryan</td>\n",
       "    </tr>\n",
       "    <tr>\n",
       "      <th>5</th>\n",
       "      <td>6</td>\n",
       "      <td>Portuguese</td>\n",
       "      <td>221.0</td>\n",
       "      <td>2.870</td>\n",
       "      <td>Indo-European</td>\n",
       "      <td>Romance</td>\n",
       "    </tr>\n",
       "    <tr>\n",
       "      <th>6</th>\n",
       "      <td>7</td>\n",
       "      <td>Russian</td>\n",
       "      <td>154.0</td>\n",
       "      <td>2.000</td>\n",
       "      <td>Indo-European</td>\n",
       "      <td>Balto-Slavic</td>\n",
       "    </tr>\n",
       "    <tr>\n",
       "      <th>7</th>\n",
       "      <td>8</td>\n",
       "      <td>Japanese</td>\n",
       "      <td>128.0</td>\n",
       "      <td>1.662</td>\n",
       "      <td>Japonic</td>\n",
       "      <td>Japanese</td>\n",
       "    </tr>\n",
       "    <tr>\n",
       "      <th>8</th>\n",
       "      <td>9</td>\n",
       "      <td>Western Punjabi[10]</td>\n",
       "      <td>92.7</td>\n",
       "      <td>1.204</td>\n",
       "      <td>Indo-European</td>\n",
       "      <td>Indo-Aryan</td>\n",
       "    </tr>\n",
       "    <tr>\n",
       "      <th>9</th>\n",
       "      <td>10</td>\n",
       "      <td>Marathi</td>\n",
       "      <td>83.1</td>\n",
       "      <td>1.079</td>\n",
       "      <td>Indo-European</td>\n",
       "      <td>Indo-Aryan</td>\n",
       "    </tr>\n",
       "  </tbody>\n",
       "</table>\n",
       "</div>"
      ],
      "text/plain": [
       "   Rank                            Language  Speakers(millions)  \\\n",
       "0     1                    Mandarin Chinese               918.0   \n",
       "1     2                             Spanish               480.0   \n",
       "2     3                             English               379.0   \n",
       "3     4  Hindi (Sanskritised Hindustani)[9]               341.0   \n",
       "4     5                             Bengali               228.0   \n",
       "5     6                          Portuguese               221.0   \n",
       "6     7                             Russian               154.0   \n",
       "7     8                            Japanese               128.0   \n",
       "8     9                 Western Punjabi[10]                92.7   \n",
       "9    10                             Marathi                83.1   \n",
       "\n",
       "   % of World pop.(March 2019)[8] Language family        Branch  \n",
       "0                          11.922    Sino-Tibetan       Sinitic  \n",
       "1                           5.994   Indo-European       Romance  \n",
       "2                           4.922   Indo-European      Germanic  \n",
       "3                           4.429   Indo-European    Indo-Aryan  \n",
       "4                           2.961   Indo-European    Indo-Aryan  \n",
       "5                           2.870   Indo-European       Romance  \n",
       "6                           2.000   Indo-European  Balto-Slavic  \n",
       "7                           1.662         Japonic      Japanese  \n",
       "8                           1.204   Indo-European    Indo-Aryan  \n",
       "9                           1.079   Indo-European    Indo-Aryan  "
      ]
     },
     "execution_count": 17,
     "metadata": {},
     "output_type": "execute_result"
    }
   ],
   "source": [
    "# your code here\n",
    "data = pd.read_html(url)\n",
    "\n",
    "language_data = data[0]\n",
    "\n",
    "top10 = language_data.head(10)\n",
    "\n",
    "top10"
   ]
  },
  {
   "cell_type": "markdown",
   "metadata": {},
   "source": [
    "#### 3. Display IMDB's top 250 data (movie name, initial release, director name and stars) as a pandas dataframe."
   ]
  },
  {
   "cell_type": "code",
   "execution_count": 18,
   "metadata": {},
   "outputs": [],
   "source": [
    "# This is the url you will scrape in this exercise \n",
    "url = 'https://www.imdb.com/chart/top'"
   ]
  },
  {
   "cell_type": "code",
   "execution_count": 22,
   "metadata": {},
   "outputs": [],
   "source": [
    "# your code here\n",
    "data = pd.read_html(url)\n",
    "\n",
    "movies_data = data[0]\n",
    "\n",
    "movies = movies_data.drop(movies_data.columns[[0, 3, 4]], axis = 1)\n",
    "\n",
    "#movies"
   ]
  },
  {
   "cell_type": "code",
   "execution_count": 26,
   "metadata": {},
   "outputs": [
    {
     "data": {
      "text/html": [
       "<div>\n",
       "<style scoped>\n",
       "    .dataframe tbody tr th:only-of-type {\n",
       "        vertical-align: middle;\n",
       "    }\n",
       "\n",
       "    .dataframe tbody tr th {\n",
       "        vertical-align: top;\n",
       "    }\n",
       "\n",
       "    .dataframe thead th {\n",
       "        text-align: right;\n",
       "    }\n",
       "</style>\n",
       "<table border=\"1\" class=\"dataframe\">\n",
       "  <thead>\n",
       "    <tr style=\"text-align: right;\">\n",
       "      <th></th>\n",
       "      <th>Director</th>\n",
       "      <th>Rank &amp; Title</th>\n",
       "      <th>IMDb Rating</th>\n",
       "    </tr>\n",
       "  </thead>\n",
       "  <tbody>\n",
       "    <tr>\n",
       "      <th>0</th>\n",
       "      <td>Frank Darabont (dir.)</td>\n",
       "      <td>1.  Os Condenados de Shawshank  (1994)</td>\n",
       "      <td>9.2</td>\n",
       "    </tr>\n",
       "    <tr>\n",
       "      <th>1</th>\n",
       "      <td>Francis Ford Coppola (dir.)</td>\n",
       "      <td>2.  O Padrinho  (1972)</td>\n",
       "      <td>9.1</td>\n",
       "    </tr>\n",
       "    <tr>\n",
       "      <th>2</th>\n",
       "      <td>Francis Ford Coppola (dir.)</td>\n",
       "      <td>3.  O Padrinho: Parte II  (1974)</td>\n",
       "      <td>9.0</td>\n",
       "    </tr>\n",
       "    <tr>\n",
       "      <th>3</th>\n",
       "      <td>Christopher Nolan (dir.)</td>\n",
       "      <td>4.  O Cavaleiro das Trevas  (2008)</td>\n",
       "      <td>9.0</td>\n",
       "    </tr>\n",
       "    <tr>\n",
       "      <th>4</th>\n",
       "      <td>Sidney Lumet (dir.)</td>\n",
       "      <td>5.  Doze Homens em Fúria  (1957)</td>\n",
       "      <td>8.9</td>\n",
       "    </tr>\n",
       "    <tr>\n",
       "      <th>...</th>\n",
       "      <td>...</td>\n",
       "      <td>...</td>\n",
       "      <td>...</td>\n",
       "    </tr>\n",
       "    <tr>\n",
       "      <th>245</th>\n",
       "      <td>Gillo Pontecorvo (dir.)</td>\n",
       "      <td>246.  A Batalha de Argel  (1966)</td>\n",
       "      <td>8.0</td>\n",
       "    </tr>\n",
       "    <tr>\n",
       "      <th>246</th>\n",
       "      <td>Ashutosh Gowariker (dir.)</td>\n",
       "      <td>247.  Swades: We, the People  (2004)</td>\n",
       "      <td>8.0</td>\n",
       "    </tr>\n",
       "    <tr>\n",
       "      <th>247</th>\n",
       "      <td>Hideaki Anno (dir.)</td>\n",
       "      <td>248.  Shin seiki Evangelion Gekijô-ban: Air/Ma...</td>\n",
       "      <td>8.0</td>\n",
       "    </tr>\n",
       "    <tr>\n",
       "      <th>248</th>\n",
       "      <td>Shimit Amin (dir.)</td>\n",
       "      <td>249.  Chak De! India  (2007)</td>\n",
       "      <td>8.0</td>\n",
       "    </tr>\n",
       "    <tr>\n",
       "      <th>249</th>\n",
       "      <td>Priyadarshan (dir.)</td>\n",
       "      <td>250.  Hera Pheri  (2000)</td>\n",
       "      <td>8.0</td>\n",
       "    </tr>\n",
       "  </tbody>\n",
       "</table>\n",
       "<p>250 rows × 3 columns</p>\n",
       "</div>"
      ],
      "text/plain": [
       "                        Director  \\\n",
       "0          Frank Darabont (dir.)   \n",
       "1    Francis Ford Coppola (dir.)   \n",
       "2    Francis Ford Coppola (dir.)   \n",
       "3       Christopher Nolan (dir.)   \n",
       "4            Sidney Lumet (dir.)   \n",
       "..                           ...   \n",
       "245      Gillo Pontecorvo (dir.)   \n",
       "246    Ashutosh Gowariker (dir.)   \n",
       "247          Hideaki Anno (dir.)   \n",
       "248           Shimit Amin (dir.)   \n",
       "249          Priyadarshan (dir.)   \n",
       "\n",
       "                                          Rank & Title  IMDb Rating  \n",
       "0               1.  Os Condenados de Shawshank  (1994)          9.2  \n",
       "1                               2.  O Padrinho  (1972)          9.1  \n",
       "2                     3.  O Padrinho: Parte II  (1974)          9.0  \n",
       "3                   4.  O Cavaleiro das Trevas  (2008)          9.0  \n",
       "4                     5.  Doze Homens em Fúria  (1957)          8.9  \n",
       "..                                                 ...          ...  \n",
       "245                   246.  A Batalha de Argel  (1966)          8.0  \n",
       "246               247.  Swades: We, the People  (2004)          8.0  \n",
       "247  248.  Shin seiki Evangelion Gekijô-ban: Air/Ma...          8.0  \n",
       "248                       249.  Chak De! India  (2007)          8.0  \n",
       "249                           250.  Hera Pheri  (2000)          8.0  \n",
       "\n",
       "[250 rows x 3 columns]"
      ]
     },
     "execution_count": 26,
     "metadata": {},
     "output_type": "execute_result"
    }
   ],
   "source": [
    "response = requests.get(url)\n",
    "\n",
    "soup = BeautifulSoup(response.content, features = 'lxml')\n",
    "\n",
    "directors = soup.find_all('td', attrs = {'class' : 'titleColumn'})\n",
    "\n",
    "dir_list = [director.find('a').get('title') for director in directors]\n",
    "\n",
    "movies_data2 = [per_movie.split(',') for per_movie in dir_list]\n",
    "\n",
    "movie_director = [direct[0] for direct in movies_data2]\n",
    "\n",
    "df = pd.DataFrame(movie_director)\n",
    "\n",
    "merged = df.join(movies_data)\n",
    "\n",
    "merged.rename({0:'Director'}, axis = 1, inplace = True)\n",
    "\n",
    "del merged['Unnamed: 0']\n",
    "del merged['Your Rating']\n",
    "del merged['Unnamed: 4']\n",
    "\n",
    "merged"
   ]
  },
  {
   "cell_type": "markdown",
   "metadata": {},
   "source": [
    "#### 3.1. Display the movie name, year and a brief summary of the top 10 random movies (IMDB) as a pandas dataframe."
   ]
  },
  {
   "cell_type": "code",
   "execution_count": 27,
   "metadata": {},
   "outputs": [],
   "source": [
    "#This is the url you will scrape in this exercise\n",
    "url = 'http://www.imdb.com/chart/top'"
   ]
  },
  {
   "cell_type": "code",
   "execution_count": 28,
   "metadata": {},
   "outputs": [
    {
     "data": {
      "text/html": [
       "<div>\n",
       "<style scoped>\n",
       "    .dataframe tbody tr th:only-of-type {\n",
       "        vertical-align: middle;\n",
       "    }\n",
       "\n",
       "    .dataframe tbody tr th {\n",
       "        vertical-align: top;\n",
       "    }\n",
       "\n",
       "    .dataframe thead th {\n",
       "        text-align: right;\n",
       "    }\n",
       "</style>\n",
       "<table border=\"1\" class=\"dataframe\">\n",
       "  <thead>\n",
       "    <tr style=\"text-align: right;\">\n",
       "      <th></th>\n",
       "      <th>Summary</th>\n",
       "      <th>Rank &amp; Title</th>\n",
       "    </tr>\n",
       "  </thead>\n",
       "  <tbody>\n",
       "    <tr>\n",
       "      <th>0</th>\n",
       "      <td>Two imprisoned men bond over a number of years...</td>\n",
       "      <td>1.  Os Condenados de Shawshank  (1994)</td>\n",
       "    </tr>\n",
       "    <tr>\n",
       "      <th>1</th>\n",
       "      <td>The aging patriarch of an organized crime dyna...</td>\n",
       "      <td>2.  O Padrinho  (1972)</td>\n",
       "    </tr>\n",
       "    <tr>\n",
       "      <th>2</th>\n",
       "      <td>The early life and career of Vito Corleone in ...</td>\n",
       "      <td>3.  O Padrinho: Parte II  (1974)</td>\n",
       "    </tr>\n",
       "    <tr>\n",
       "      <th>3</th>\n",
       "      <td>When the menace known as the Joker wreaks havo...</td>\n",
       "      <td>4.  O Cavaleiro das Trevas  (2008)</td>\n",
       "    </tr>\n",
       "    <tr>\n",
       "      <th>4</th>\n",
       "      <td>A jury holdout attempts to prevent a miscarria...</td>\n",
       "      <td>5.  Doze Homens em Fúria  (1957)</td>\n",
       "    </tr>\n",
       "    <tr>\n",
       "      <th>5</th>\n",
       "      <td>In German-occupied Poland during World War II,...</td>\n",
       "      <td>6.  A Lista de Schindler  (1993)</td>\n",
       "    </tr>\n",
       "    <tr>\n",
       "      <th>6</th>\n",
       "      <td>Gandalf and Aragorn lead the World of Men agai...</td>\n",
       "      <td>7.  O Senhor dos Anéis - O Regresso do Rei  (2...</td>\n",
       "    </tr>\n",
       "    <tr>\n",
       "      <th>7</th>\n",
       "      <td>The lives of two mob hitmen, a boxer, a gangst...</td>\n",
       "      <td>8.  Pulp Fiction  (1994)</td>\n",
       "    </tr>\n",
       "    <tr>\n",
       "      <th>8</th>\n",
       "      <td>A bounty hunting scam joins two men in an unea...</td>\n",
       "      <td>9.  O Bom, o Mau e o Vilão  (1966)</td>\n",
       "    </tr>\n",
       "    <tr>\n",
       "      <th>9</th>\n",
       "      <td>A meek Hobbit from the Shire and eight compani...</td>\n",
       "      <td>10.  O Senhor dos Anéis - A Irmandade do Anel ...</td>\n",
       "    </tr>\n",
       "  </tbody>\n",
       "</table>\n",
       "</div>"
      ],
      "text/plain": [
       "                                             Summary  \\\n",
       "0  Two imprisoned men bond over a number of years...   \n",
       "1  The aging patriarch of an organized crime dyna...   \n",
       "2  The early life and career of Vito Corleone in ...   \n",
       "3  When the menace known as the Joker wreaks havo...   \n",
       "4  A jury holdout attempts to prevent a miscarria...   \n",
       "5  In German-occupied Poland during World War II,...   \n",
       "6  Gandalf and Aragorn lead the World of Men agai...   \n",
       "7  The lives of two mob hitmen, a boxer, a gangst...   \n",
       "8  A bounty hunting scam joins two men in an unea...   \n",
       "9  A meek Hobbit from the Shire and eight compani...   \n",
       "\n",
       "                                        Rank & Title  \n",
       "0             1.  Os Condenados de Shawshank  (1994)  \n",
       "1                             2.  O Padrinho  (1972)  \n",
       "2                   3.  O Padrinho: Parte II  (1974)  \n",
       "3                 4.  O Cavaleiro das Trevas  (2008)  \n",
       "4                   5.  Doze Homens em Fúria  (1957)  \n",
       "5                   6.  A Lista de Schindler  (1993)  \n",
       "6  7.  O Senhor dos Anéis - O Regresso do Rei  (2...  \n",
       "7                           8.  Pulp Fiction  (1994)  \n",
       "8                 9.  O Bom, o Mau e o Vilão  (1966)  \n",
       "9  10.  O Senhor dos Anéis - A Irmandade do Anel ...  "
      ]
     },
     "execution_count": 28,
     "metadata": {},
     "output_type": "execute_result"
    }
   ],
   "source": [
    "# your code here\n",
    "\n",
    "data = pd.read_html(url)\n",
    "film_data = data[0]\n",
    "top = film_data.head(10)\n",
    "top = top.drop(film_data.columns[[0, 2, 3, 4]], axis = 1)\n",
    "\n",
    "response = requests.get(url)\n",
    "\n",
    "soup = BeautifulSoup(response.content, features = 'lxml')\n",
    "\n",
    "summary = soup.find_all('td', attrs = {'class' : 'titleColumn'})\n",
    "\n",
    "newlist = [subsummary.find('a').get('href') for subsummary in summary]\n",
    "\n",
    "\n",
    "url1 = ['http://www.imdb.com' + subitem for subitem in newlist[:10]]\n",
    "\n",
    "one_more_list = []\n",
    "\n",
    "for element in url1:\n",
    "    response = requests.get(element)\n",
    "    soup = BeautifulSoup(response.content, features = 'lxml')\n",
    "    movie_summary = soup.find_all('div', attrs = {'class' : 'summary_text'})\n",
    "    one_more_list.append(movie_summary[0].get_text(strip = True))\n",
    "\n",
    "    \n",
    "df = pd.DataFrame(one_more_list)\n",
    "\n",
    "df.rename({0 : 'Summary'}, axis = 1, inplace = True)\n",
    "\n",
    "merged = df.join(top)\n",
    "\n",
    "merged"
   ]
  },
  {
   "cell_type": "markdown",
   "metadata": {},
   "source": [
    "### 4. Twitter Scraping\n",
    "You can do it by using twitter's API or by inspecting the page.<br>\n",
    "<br> If you choose to do it by inspecting the page you will notice that the tags shown in the browser are not the same as shown on the soup, because of dinamic content. However, in this case, you will be able to get the information needed by printing the soup here and manually finding the desired tags (you can use ctrl+f to help). <br>\n",
    "<br> Ask the user for the handle (@handle) of a twitter account. You will need to include a ***try/except block*** for account names not found.<br>\n",
    "<br> Get the information required bellow:"
   ]
  },
  {
   "cell_type": "markdown",
   "metadata": {},
   "source": [
    "#### 4.1. Inform the total number of tweets by a given Twitter account."
   ]
  },
  {
   "cell_type": "code",
   "execution_count": null,
   "metadata": {},
   "outputs": [],
   "source": [
    "# This is the url you will scrape in this exercise \n",
    "# You will need to add the account credentials to this url\n",
    "url = 'https://twitter.com/'"
   ]
  },
  {
   "cell_type": "code",
   "execution_count": null,
   "metadata": {},
   "outputs": [],
   "source": [
    "# your code here"
   ]
  },
  {
   "cell_type": "markdown",
   "metadata": {},
   "source": [
    "#### 4.2. Inform the number of followers of a given twitter account"
   ]
  },
  {
   "cell_type": "code",
   "execution_count": null,
   "metadata": {},
   "outputs": [],
   "source": [
    "# your code here"
   ]
  },
  {
   "cell_type": "markdown",
   "metadata": {},
   "source": [
    "#### 4.3. Scrape a certain number of tweets of a given Twitter account."
   ]
  },
  {
   "cell_type": "code",
   "execution_count": null,
   "metadata": {},
   "outputs": [],
   "source": [
    "# your code here"
   ]
  },
  {
   "cell_type": "markdown",
   "metadata": {},
   "source": [
    "## Bonus"
   ]
  },
  {
   "cell_type": "markdown",
   "metadata": {},
   "source": [
    "#### Find the live weather report (temperature, wind speed, description and weather) of a given city."
   ]
  },
  {
   "cell_type": "code",
   "execution_count": null,
   "metadata": {},
   "outputs": [],
   "source": [
    "#https://openweathermap.org/current\n",
    "city = input('Enter the city: ')\n",
    "url = 'http://api.openweathermap.org/data/2.5/weather?'+'q='+city+'&APPID=b35975e18dc93725acb092f7272cc6b8&units=metric'"
   ]
  },
  {
   "cell_type": "code",
   "execution_count": null,
   "metadata": {},
   "outputs": [],
   "source": [
    "# your code here"
   ]
  },
  {
   "cell_type": "markdown",
   "metadata": {},
   "source": [
    "#### Find the book name, price and stock availability as a pandas dataframe."
   ]
  },
  {
   "cell_type": "code",
   "execution_count": null,
   "metadata": {},
   "outputs": [],
   "source": [
    "# This is the url you will scrape in this exercise. \n",
    "# It is a fictional bookstore created to be scraped. \n",
    "url = 'http://books.toscrape.com/'"
   ]
  },
  {
   "cell_type": "code",
   "execution_count": null,
   "metadata": {},
   "outputs": [],
   "source": [
    "# your code here"
   ]
  },
  {
   "cell_type": "markdown",
   "metadata": {},
   "source": [
    "####  Display the 100 latest earthquakes info (date, time, latitude, longitude and region name) by the EMSC as a pandas dataframe.\n",
    "***Hint:*** Here the displayed number of earthquakes per page is 20, but you can easily move to the next page by looping through the desired number of pages and adding it to the end of the url."
   ]
  },
  {
   "cell_type": "code",
   "execution_count": null,
   "metadata": {},
   "outputs": [],
   "source": [
    "# This is the url you will scrape in this exercise\n",
    "url = 'https://www.emsc-csem.org/Earthquake/?view='\n",
    "\n",
    "# This is how you will loop through each page:\n",
    "number_of_pages = int(100/20)\n",
    "each_page_urls = []\n",
    "\n",
    "for n in range(1, number_of_pages+1):\n",
    "    link = url+str(n)\n",
    "    each_page_urls.append(link)\n",
    "    \n",
    "each_page_urls"
   ]
  },
  {
   "cell_type": "code",
   "execution_count": null,
   "metadata": {},
   "outputs": [],
   "source": [
    "# your code here"
   ]
  }
 ],
 "metadata": {
  "kernelspec": {
   "display_name": "Python 3",
   "language": "python",
   "name": "python3"
  },
  "language_info": {
   "codemirror_mode": {
    "name": "ipython",
    "version": 3
   },
   "file_extension": ".py",
   "mimetype": "text/x-python",
   "name": "python",
   "nbconvert_exporter": "python",
   "pygments_lexer": "ipython3",
   "version": "3.7.6"
  }
 },
 "nbformat": 4,
 "nbformat_minor": 2
}
